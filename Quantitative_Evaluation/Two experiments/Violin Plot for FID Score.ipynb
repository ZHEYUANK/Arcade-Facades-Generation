{
 "cells": [
  {
   "cell_type": "code",
   "execution_count": 1,
   "id": "40f456da-9a2b-4664-8f0a-50b864b53428",
   "metadata": {},
   "outputs": [],
   "source": [
    "import pandas as pd\n",
    "import seaborn as sns\n",
    "import matplotlib.pyplot as plt"
   ]
  },
  {
   "cell_type": "code",
   "execution_count": 2,
   "id": "e9a277b5-7153-4685-8554-f9441c126eea",
   "metadata": {},
   "outputs": [],
   "source": [
    "def preprocess_data(file1, file2):\n",
    "    # Load data\n",
    "    fid_scores1 = pd.read_excel(file1)\n",
    "    fid_scores2 = pd.read_excel(file2)\n",
    "\n",
    "    # Reshape data\n",
    "    fid_scores1.columns = fid_scores1.iloc[0]\n",
    "    fid_scores1 = fid_scores1.drop(0)\n",
    "    fid_scores2.columns = fid_scores2.iloc[0]\n",
    "    fid_scores2 = fid_scores2.drop(0)\n",
    "    fid_scores1_melted = fid_scores1.melt(id_vars=['Weight'], value_name='FID Score', var_name='Model')\n",
    "    fid_scores2_melted = fid_scores2.melt(id_vars=['Weight'], value_name='FID Score', var_name='Model')\n",
    "    fid_scores1_melted['Experiment'] = 'Exp 1.0'\n",
    "    fid_scores2_melted['Experiment'] = 'Exp 2.0'\n",
    "    combined_data = pd.concat([fid_scores1_melted, fid_scores2_melted])\n",
    "    combined_data['FID Score'] = combined_data['FID Score'].astype(float)\n",
    "\n",
    "    # Merge with training parameters\n",
    "    training_params = {\n",
    "        'LoRA model': ['ArcadeFacadeV2.1', 'ArcadeFacadeV2.2', 'ArcadeFacadeV2.3', 'ArcadeFacadeV2.4',\n",
    "                       'ArcadeFacadeV2.5', 'ArcadeFacadeV2.6'],\n",
    "        'Batch size': [3, 3, 3, 2, 2, 2],\n",
    "        'Epoch': [20, 20, 20, 20, 20, 20],\n",
    "        'Repeat': [6, 8, 6, 6, 10, 8],\n",
    "        'Learning rate': [0.0001, 0.0001, 0.0001, 0.0002, 0.0002, 0.0002],\n",
    "        'Optimizer type': ['AdamW8bit', 'AdamW8bit', 'Lion', 'Lion', 'Lion', 'Lion']\n",
    "    }\n",
    "    params_df = pd.DataFrame(training_params)\n",
    "    params_df['LoRA model'] = params_df['LoRA model'].str.replace(\"ArcadeFacade\", \"AcadeFacde\")\n",
    "    combined_data_with_params = combined_data.merge(params_df, left_on='Model', right_on='LoRA model', how='left').drop(\n",
    "        columns='LoRA model')\n",
    "\n",
    "    return combined_data_with_params"
   ]
  },
  {
   "cell_type": "code",
   "execution_count": 3,
   "id": "cd6e765c-e61e-40f7-9b45-e0fa6d482f31",
   "metadata": {},
   "outputs": [],
   "source": [
    "def plot_individual_violin_graphs(file1, file2):\n",
    "    combined_data_with_params = preprocess_data(file1, file2)\n",
    "\n",
    "    # Setting style and palette\n",
    "    sns.set_style(\"whitegrid\")\n",
    "    palette_pastel = sns.color_palette(\"pastel\")\n",
    "\n",
    "    # Plot separate violin graphs for each training parameter\n",
    "    parameters = ['Batch size', 'Repeat', 'Learning rate', 'Optimizer type']\n",
    "    for param in parameters:\n",
    "        plt.figure(figsize=(10, 8))\n",
    "        sns.violinplot(data=combined_data_with_params, x=param, y='FID Score', hue='Experiment', split=True,\n",
    "                       inner=\"quartile\", palette=palette_pastel)\n",
    "        plt.title(f\"Distribution of FID Scores by {param}\", fontsize=26)\n",
    "        plt.ylabel(\"FID Score\", fontsize=26)\n",
    "        plt.xlabel(param, fontsize=26)"
   ]
  },
  {
   "cell_type": "code",
   "execution_count": 4,
   "id": "c8c26132-154a-45d4-83c2-f9948b4cd746",
   "metadata": {},
   "outputs": [],
   "source": [
    "def plot_combined_violin_graphs(file1, file2):\n",
    "    combined_data_with_params = preprocess_data(file1, file2)\n",
    "\n",
    "    # Setting style and palette\n",
    "    sns.set_style(\"whitegrid\")\n",
    "    palette_pastel = sns.color_palette(\"pastel\")\n",
    "\n",
    "    # Plot combined violin graphs\n",
    "    fig, axes = plt.subplots(nrows=2, ncols=2, figsize=(20, 18), facecolor='white')\n",
    "    axes = axes.ravel()\n",
    "    parameters = ['Batch size', 'Repeat', 'Learning rate', 'Optimizer type']\n",
    "    for i, param in enumerate(parameters):\n",
    "        sns.violinplot(data=combined_data_with_params, x=param, y='FID Score', hue='Experiment', split=True,\n",
    "                       inner=\"quartile\", palette=palette_pastel, ax=axes[i])\n",
    "        axes[i].set_title(f\"Distribution of FID Scores by {param}\", fontsize=26)\n",
    "        axes[i].set_ylabel(\"FID Score\", fontsize=26)\n",
    "        axes[i].set_xlabel(param, fontsize=26)\n",
    "        axes[i].legend(title='Experiment', fontsize=18, title_fontsize=18)\n",
    "        axes[i].tick_params(labelsize=26)\n",
    "\n",
    "        # Setting the facecolor to #f5f5f5 and adding a black frame around each subplot\n",
    "        axes[i].set_facecolor('#f5f5f5')\n",
    "        for spine in axes[i].spines.values():\n",
    "            spine.set_visible(True)\n",
    "            spine.set_color('black')\n",
    "\n",
    "    plt.tight_layout()\n",
    "    plt.show()"
   ]
  },
  {
   "cell_type": "code",
   "execution_count": null,
   "id": "da815c00-c0bc-4e6a-87c5-046e447082b3",
   "metadata": {},
   "outputs": [],
   "source": [
    "# To run the functions, just provide the paths to the two files:\n",
    "plot_combined_violin_graphs(\"FID scores1.0.xlsx\", \"FID scores2.0.xlsx\") # Replace with the path of the Experiment file"
   ]
  },
  {
   "cell_type": "code",
   "execution_count": null,
   "id": "d8ad3077-e72c-4b01-9dcc-6d4846462765",
   "metadata": {},
   "outputs": [],
   "source": [
    "plot_individual_violin_graphs(\"FID scores1.0.xlsx\", \"FID scores2.0.xlsx\")"
   ]
  }
 ],
 "metadata": {
  "kernelspec": {
   "display_name": "plot",
   "language": "python",
   "name": "plot"
  },
  "language_info": {
   "codemirror_mode": {
    "name": "ipython",
    "version": 3
   },
   "file_extension": ".py",
   "mimetype": "text/x-python",
   "name": "python",
   "nbconvert_exporter": "python",
   "pygments_lexer": "ipython3",
   "version": "3.8.18"
  }
 },
 "nbformat": 4,
 "nbformat_minor": 5
}
