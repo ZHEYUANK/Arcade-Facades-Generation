{
 "cells": [
  {
   "cell_type": "code",
   "execution_count": 1,
   "id": "9f369ba5-c2c0-4e60-83e3-46bf47958903",
   "metadata": {},
   "outputs": [],
   "source": [
    "import pandas as pd\n",
    "import matplotlib.pyplot as plt\n",
    "import seaborn as sns"
   ]
  },
  {
   "cell_type": "code",
   "execution_count": 2,
   "id": "02156c38-76a3-4133-a21b-210a4089791a",
   "metadata": {},
   "outputs": [],
   "source": [
    "# Load your data file\n",
    "file_path = \"CLIPScores_ALL_1.0.xlsx\"  # Replace with the path of the Experiment file\n",
    "data = pd.read_excel(file_path)\n",
    "\n",
    "# Extract model names and weights from the data\n",
    "model_names = [\"ArcadeFacadeV2.1\", \"ArcadeFacadeV2.2\", \"ArcadeFacadeV2.3\", \"ArcadeFacadeV2.4\", \"ArcadeFacadeV2.5\", \"ArcadeFacadeV2.6\"]\n",
    "weights = data.iloc[0, 1:6].values\n",
    "\n",
    "# Process data for boxplot\n",
    "long_format_data = pd.DataFrame()\n",
    "for i, model_name in enumerate(model_names):\n",
    "    start_col = i * 7 + 1\n",
    "    end_col = start_col + 5\n",
    "    model_data = data.iloc[2:, start_col:end_col]\n",
    "    model_data.columns = weights\n",
    "    model_data = model_data.melt(var_name='Weight', value_name='CLIPScore')\n",
    "    model_data['Model'] = model_name\n",
    "    long_format_data = pd.concat([long_format_data, model_data], axis=0)\n",
    "long_format_data['CLIPScore'] = pd.to_numeric(long_format_data['CLIPScore'])\n",
    "\n",
    "# Define custom colors for the boxplot\n",
    "colors = ['#E2EFDA', '#B4C6E7', '#F8CBAD', '#FFE699', '#BDD7EE']"
   ]
  },
  {
   "cell_type": "code",
   "execution_count": null,
   "id": "0903f2a7-b440-4015-a6d5-e432d4aeb24d",
   "metadata": {},
   "outputs": [],
   "source": [
    "# Generate boxplot with custom y-axis range and color palette\n",
    "plt.figure(figsize=(4380/300, 3179/300))\n",
    "sns.boxplot(x='Model', y='CLIPScore', hue='Weight', data=long_format_data, linewidth=1.2, palette=colors)\n",
    "plt.title(\"Box plot of CLIPScores for different models at various weights(Exp 1.0)\", fontsize=24)  # Setting title with font size\n",
    "plt.xlabel('ArcadeFacade Model Version', fontsize=22)  # Setting x-axis label with font size\n",
    "plt.ylabel('CLIPScore', fontsize=22)  # Setting y-axis label with font size\n",
    "plt.xticks(ticks=range(len(model_names)), labels=[\"V2.1\", \"V2.2\", \"V2.3\", \"V2.4\", \"V2.5\", \"V2.6\"], rotation=0, fontsize=22)  # Setting x-axis tick labels with font size\n",
    "plt.yticks(fontsize=22)  # Setting y-axis tick labels with font size\n",
    "plt.ylim(0.65, 0.85)  # Setting y-axis limits\n",
    "plt.legend(title='Weight', title_fontsize='18', fontsize='16', loc='upper right')  # Setting legend title and item font sizes\n",
    "plt.tight_layout()\n",
    "plt.show()"
   ]
  },
  {
   "cell_type": "code",
   "execution_count": null,
   "id": "4ff359f2-0271-47c2-ad88-d04e6a601831",
   "metadata": {},
   "outputs": [],
   "source": []
  }
 ],
 "metadata": {
  "kernelspec": {
   "display_name": "plot",
   "language": "python",
   "name": "plot"
  },
  "language_info": {
   "codemirror_mode": {
    "name": "ipython",
    "version": 3
   },
   "file_extension": ".py",
   "mimetype": "text/x-python",
   "name": "python",
   "nbconvert_exporter": "python",
   "pygments_lexer": "ipython3",
   "version": "3.8.18"
  }
 },
 "nbformat": 4,
 "nbformat_minor": 5
}
