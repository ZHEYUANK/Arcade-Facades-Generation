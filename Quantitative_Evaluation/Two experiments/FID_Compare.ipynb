{
 "cells": [
  {
   "cell_type": "code",
   "execution_count": 2,
   "id": "100bfb82-fdd9-4fbf-bdc2-316d2ce40bdc",
   "metadata": {},
   "outputs": [],
   "source": [
    "import pandas as pd\n",
    "import matplotlib.pyplot as plt"
   ]
  },
  {
   "cell_type": "code",
   "execution_count": 3,
   "id": "4d771b7a-b755-46e4-8c6d-eb5355527bbe",
   "metadata": {},
   "outputs": [],
   "source": [
    "# Load the data\n",
    "file_path_exp1 = 'FID scores1.0.xlsx'  # Replace with the path of the Experiment 1.0 file\n",
    "file_path_exp2 = 'FID scores2.0.xlsx'  # Replace with the path of the Experiment 2.0 file\n",
    "fid_scores_data_1 = pd.read_excel(file_path_exp1, skiprows=1)\n",
    "fid_scores_data_2 = pd.read_excel(file_path_exp2, skiprows=1)"
   ]
  },
  {
   "cell_type": "code",
   "execution_count": null,
   "id": "11801047-f6cd-44d4-a339-3fa7805ac68c",
   "metadata": {},
   "outputs": [],
   "source": [
    "print(fid_scores_data_1.head())"
   ]
  },
  {
   "cell_type": "code",
   "execution_count": null,
   "id": "9044f751-bb66-4e86-885f-0c368975ee09",
   "metadata": {},
   "outputs": [],
   "source": [
    "print(fid_scores_data_2.head())"
   ]
  },
  {
   "cell_type": "code",
   "execution_count": null,
   "id": "2037dc8d-b16e-43fe-a642-21deb0ea18a6",
   "metadata": {},
   "outputs": [],
   "source": [
    "# Adjusting the visual parameters for better clarity and distinction with softer colors and larger fonts\n",
    "\n",
    "# Softer color palette for better distinction\n",
    "colors = ['#1f77b4', '#ff7f0e', '#2ca02c', '#d62728', '#9467bd', '#8c564b']  # You can adjust colors as needed\n",
    "\n",
    "# Setting the figure size for the plot\n",
    "plt.figure(figsize=(20, 14))\n",
    "\n",
    "# Plotting for Experiment 1.0\n",
    "for idx, model in enumerate(fid_scores_data_1.columns[1:]):\n",
    "    plt.plot(fid_scores_data_1['Weight'], fid_scores_data_1[model], label=f\"1.0-{model}\", \n",
    "             marker='o', linestyle='--', linewidth=2.5, color=colors[idx], markersize=8)\n",
    "\n",
    "# Plotting for Experiment 2.0\n",
    "for idx, model in enumerate(fid_scores_data_2.columns[1:]):\n",
    "    plt.plot(fid_scores_data_2['Weight'], fid_scores_data_2[model], label=f\"2.0-{model}\", \n",
    "             marker='x', linewidth=2.5, color=colors[idx], markersize=8)\n",
    "\n",
    "# Calculate Minimum FID adn Maximum\n",
    "max_fid = max(fid_scores_data_1.iloc[:, 1:].max().max(), fid_scores_data_2.iloc[:, 1:].max().max())\n",
    "min_fid = min(fid_scores_data_1.iloc[:, 1:].min().min(), fid_scores_data_2.iloc[:, 1:].min().min())\n",
    "\n",
    "# Adding dashed horizontal lines for Minimum and Maximum FID scores\n",
    "plt.axhline(y=min_fid, color='b', linestyle='--', linewidth=5.5, label=\"Minimum FID\")\n",
    "plt.axhline(y=max_fid, color='m', linestyle='--', linewidth=5.5, label=\"Maximum FID\")\n",
    "\n",
    "# Setting titles and labels with font sizes\n",
    "#plt.title('Comparison of FID Scores Between Experiment 1.0 and 2.0', fontsize=32)\n",
    "plt.xlabel('Weight', fontsize=30)\n",
    "plt.ylabel('FID Score', fontsize=30)\n",
    "plt.xticks(fontsize=30)\n",
    "plt.yticks(fontsize=30)\n",
    "\n",
    "\n",
    "# Adjusting the legend with font size and moving it outside the plot\n",
    "plt.legend(loc='center left', bbox_to_anchor=(1, 0.5), fontsize=25)\n",
    "\n",
    "# Displaying a grid\n",
    "plt.grid(True)\n",
    "\n",
    "# Adjusting the layout to ensure no clipping\n",
    "plt.tight_layout()\n",
    "\n",
    "# Displaying the plot\n",
    "plt.show()\n"
   ]
  },
  {
   "cell_type": "code",
   "execution_count": null,
   "id": "7fab476e-9f23-4659-845c-e6b0b6504278",
   "metadata": {},
   "outputs": [],
   "source": []
  }
 ],
 "metadata": {
  "kernelspec": {
   "display_name": "plot",
   "language": "python",
   "name": "python3"
  },
  "language_info": {
   "codemirror_mode": {
    "name": "ipython",
    "version": 3
   },
   "file_extension": ".py",
   "mimetype": "text/x-python",
   "name": "python",
   "nbconvert_exporter": "python",
   "pygments_lexer": "ipython3",
   "version": "3.8.18"
  }
 },
 "nbformat": 4,
 "nbformat_minor": 5
}
